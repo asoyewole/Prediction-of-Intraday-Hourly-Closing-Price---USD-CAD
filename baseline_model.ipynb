{
 "cells": [
  {
   "cell_type": "code",
   "execution_count": 3,
   "metadata": {},
   "outputs": [
    {
     "name": "stdout",
     "output_type": "stream",
     "text": [
      "imported successfully\n"
     ]
    }
   ],
   "source": [
    "import pandas as pd\n",
    "import fx_data_cleaner\n",
    "\n",
    "import numpy as np\n",
    "from statsmodels.tsa.arima.model import ARIMA\n",
    "from sklearn.metrics import mean_squared_error\n",
    "import warnings\n",
    "warnings.filterwarnings('ignore')"
   ]
  },
  {
   "cell_type": "code",
   "execution_count": 4,
   "metadata": {},
   "outputs": [
    {
     "name": "stdout",
     "output_type": "stream",
     "text": [
      "              date      time     open     high      low    close tick_vol vol  \\\n",
      "100001  2024.07.29  01:00:00  1.38322  1.38336  1.38250  1.38311      563   0   \n",
      "100002  2024.07.29  02:00:00  1.38311  1.38323  1.38245  1.38304      670   0   \n",
      "100003  2024.07.29  03:00:00  1.38304  1.38316  1.38161  1.38188     1287   0   \n",
      "100004  2024.07.29  04:00:00  1.38188  1.38244  1.38176  1.38191     1675   0   \n",
      "100005  2024.07.29  05:00:00  1.38192  1.38216  1.38177  1.38205     1351   0   \n",
      "100006  2024.07.29  06:00:00  1.38206  1.38223  1.38192  1.38195      711   0   \n",
      "100007  2024.07.29  07:00:00  1.38194  1.38267  1.38186  1.38259      618   0   \n",
      "100008  2024.07.29  08:00:00  1.38258  1.38262  1.38219  1.38257      839   0   \n",
      "100009  2024.07.29  09:00:00  1.38257  1.38265  1.38201  1.38249     1102   0   \n",
      "100010  2024.07.29  10:00:00  1.38249  1.38385  1.38230  1.38375     1567   0   \n",
      "\n",
      "       spread  \n",
      "100001      5  \n",
      "100002      5  \n",
      "100003      5  \n",
      "100004      4  \n",
      "100005      4  \n",
      "100006      5  \n",
      "100007      3  \n",
      "100008      4  \n",
      "100009      5  \n",
      "100010      3  \n",
      "              date      time     open     high      low    close tick_vol vol  \\\n",
      "100891  2024.07.26  15:00:00  1.50035  1.50164  1.50000  1.50110     3033   0   \n",
      "100892  2024.07.26  16:00:00  1.50108  1.50122  1.49982  1.50079     3213   0   \n",
      "100893  2024.07.26  17:00:00  1.50072  1.50291  1.50031  1.50219     4111   0   \n",
      "100894  2024.07.26  18:00:00  1.50220  1.50342  1.50196  1.50197     2997   0   \n",
      "100895  2024.07.26  19:00:00  1.50200  1.50296  1.50168  1.50171     2153   0   \n",
      "100896  2024.07.26  20:00:00  1.50172  1.50241  1.50141  1.50230     2248   0   \n",
      "100897  2024.07.26  21:00:00  1.50231  1.50247  1.50191  1.50223     2093   0   \n",
      "100898  2024.07.26  22:00:00  1.50224  1.50238  1.50159  1.50161     1920   0   \n",
      "100899  2024.07.26  23:00:00  1.50155  1.50207  1.50122  1.50200      886   0   \n",
      "100900  2024.07.29  00:00:00  1.50136  1.50223  1.50119  1.50168      441   0   \n",
      "\n",
      "       spread  \n",
      "100891     12  \n",
      "100892     12  \n",
      "100893      8  \n",
      "100894     12  \n",
      "100895     12  \n",
      "100896     12  \n",
      "100897     12  \n",
      "100898     12  \n",
      "100899      7  \n",
      "100900     64  \n"
     ]
    }
   ],
   "source": [
    "# preliminary data cleaning\n",
    "usd_data = fx_data_cleaner.csv_to_columns('usdcad h1 2008 to 2024.csv')\n",
    "eur_data = fx_data_cleaner.csv_to_columns('eurcad h1 2008 to 2024.csv')\n",
    "\n",
    "# load analytical base tables\n",
    "\n",
    "usdcad_h1 = pd.DataFrame(usd_data)\n",
    "eurcad_h1 = pd.DataFrame(eur_data)\n",
    "\n",
    "print(usdcad_h1.tail(10))\n",
    "print(eurcad_h1.tail(10))"
   ]
  },
  {
   "cell_type": "code",
   "execution_count": 5,
   "metadata": {},
   "outputs": [
    {
     "name": "stdout",
     "output_type": "stream",
     "text": [
      "<class 'pandas.core.frame.DataFrame'>\n",
      "Index: 100000 entries, 0 to 99999\n",
      "Data columns (total 8 columns):\n",
      " #   Column     Non-Null Count   Dtype         \n",
      "---  ------     --------------   -----         \n",
      " 0   open       100000 non-null  float64       \n",
      " 1   high       100000 non-null  float64       \n",
      " 2   low        100000 non-null  float64       \n",
      " 3   close      100000 non-null  float64       \n",
      " 4   tick_vol   100000 non-null  int32         \n",
      " 5   vol        100000 non-null  int64         \n",
      " 6   spread     100000 non-null  int32         \n",
      " 7   date_time  100000 non-null  datetime64[ns]\n",
      "dtypes: datetime64[ns](1), float64(4), int32(2), int64(1)\n",
      "memory usage: 6.1 MB\n",
      "None\n",
      "<class 'pandas.core.frame.DataFrame'>\n",
      "Index: 100900 entries, 0 to 100899\n",
      "Data columns (total 8 columns):\n",
      " #   Column     Non-Null Count   Dtype         \n",
      "---  ------     --------------   -----         \n",
      " 0   open       100900 non-null  float64       \n",
      " 1   high       100900 non-null  float64       \n",
      " 2   low        100900 non-null  float64       \n",
      " 3   close      100900 non-null  float64       \n",
      " 4   tick_vol   100900 non-null  int32         \n",
      " 5   vol        100900 non-null  int64         \n",
      " 6   spread     100900 non-null  int32         \n",
      " 7   date_time  100900 non-null  datetime64[ns]\n",
      "dtypes: datetime64[ns](1), float64(4), int32(2), int64(1)\n",
      "memory usage: 6.2 MB\n",
      "None\n"
     ]
    }
   ],
   "source": [
    "# amend datatypes for each column. combine date and time to datetime\n",
    "usdcad_h1 = fx_data_cleaner.fx_data_type(usdcad_h1)\n",
    "eurcad_h1 = fx_data_cleaner.fx_data_type(eurcad_h1)\n",
    "\n",
    "print(usdcad_h1.info())\n",
    "print(eurcad_h1.info())"
   ]
  },
  {
   "cell_type": "code",
   "execution_count": 6,
   "metadata": {},
   "outputs": [
    {
     "name": "stdout",
     "output_type": "stream",
     "text": [
      "              count                           mean                  min  \\\n",
      "open       100000.0                       1.206908               0.9414   \n",
      "high       100000.0                        1.20781              0.94207   \n",
      "low        100000.0                       1.206015              0.94062   \n",
      "close      100000.0                       1.206915              0.94141   \n",
      "tick_vol   100000.0                     2725.73743                  1.0   \n",
      "vol        100000.0                593465498.36546                  0.0   \n",
      "spread     100000.0                        9.98687                  0.0   \n",
      "date_time    100000  2016-07-09 10:36:52.848000256  2008-06-11 08:00:00   \n",
      "\n",
      "                           25%                  50%                  75%  \\\n",
      "open                  1.053127              1.26213              1.32397   \n",
      "high                   1.05428              1.26308              1.32475   \n",
      "low                    1.05222              1.26112              1.32323   \n",
      "close                  1.05313             1.262135              1.32399   \n",
      "tick_vol                1058.0               1981.0               3545.0   \n",
      "vol                        0.0                  0.0                  0.0   \n",
      "spread                     2.0                  8.0                 18.0   \n",
      "date_time  2012-06-26 00:45:00  2016-07-13 06:30:00  2020-07-22 08:15:00   \n",
      "\n",
      "                           max                std  \n",
      "open                   1.46838           0.138542  \n",
      "high                   1.46895           0.138576  \n",
      "low                    1.46375            0.13851  \n",
      "close                  1.46841           0.138545  \n",
      "tick_vol               29419.0        2439.530821  \n",
      "vol              20392922000.0  1934767924.568898  \n",
      "spread                   325.0          10.195424  \n",
      "date_time  2024-07-26 23:00:00                NaN  \n",
      "              count                           mean                  min  \\\n",
      "open       100900.0                       1.449996              1.21328   \n",
      "high       100900.0                       1.451179                1.214   \n",
      "low        100900.0                       1.448833              1.21272   \n",
      "close      100900.0                           1.45              1.21332   \n",
      "tick_vol   100900.0                     3952.66112                  1.0   \n",
      "vol        100900.0                 529434397.1556                  0.0   \n",
      "spread     100900.0                       32.04782                  0.0   \n",
      "date_time    100900  2016-06-12 19:59:49.439048448  2008-04-18 00:00:00   \n",
      "\n",
      "                           25%                  50%                  75%  \\\n",
      "open                   1.39064             1.460315              1.50862   \n",
      "high                  1.391868             1.461245              1.50973   \n",
      "low                   1.389588              1.45947               1.5076   \n",
      "close                  1.39064              1.46033              1.50863   \n",
      "tick_vol                1740.0               3036.0               5047.0   \n",
      "vol                        0.0                  0.0                  0.0   \n",
      "spread                     7.0                 19.0                 41.0   \n",
      "date_time  2012-05-16 20:45:00  2016-06-16 12:30:00  2020-07-08 23:15:00   \n",
      "\n",
      "                           max              std  \n",
      "open                     1.748         0.087295  \n",
      "high                    1.7499         0.087473  \n",
      "low                     1.7434         0.087098  \n",
      "close                   1.7477         0.087292  \n",
      "tick_vol               48399.0       3246.84781  \n",
      "vol              20462300000.0  1754717150.3122  \n",
      "spread                   437.0        36.822687  \n",
      "date_time  2024-07-26 23:00:00              NaN  \n"
     ]
    }
   ],
   "source": [
    "print(usdcad_h1.describe().T)\n",
    "print(eurcad_h1.describe().T)"
   ]
  },
  {
   "cell_type": "code",
   "execution_count": 7,
   "metadata": {},
   "outputs": [
    {
     "name": "stdout",
     "output_type": "stream",
     "text": [
      "          open     high      low    close  tick_vol  vol  spread  \\\n",
      "99990  1.38135  1.38192  1.38134  1.38148      1026    0       4   \n",
      "99991  1.38149  1.38312  1.38144  1.38221      2133    0       2   \n",
      "99992  1.38220  1.38226  1.38070  1.38142      2577    0       2   \n",
      "99993  1.38145  1.38448  1.38102  1.38383      3579    0       4   \n",
      "99994  1.38384  1.38487  1.38335  1.38337      2630    0       4   \n",
      "99995  1.38337  1.38366  1.38214  1.38220      1842    0       2   \n",
      "99996  1.38219  1.38365  1.38196  1.38332      2192    0       2   \n",
      "99997  1.38332  1.38395  1.38292  1.38376      1914    0       4   \n",
      "99998  1.38376  1.38398  1.38306  1.38308      1436    0       4   \n",
      "99999  1.38310  1.38373  1.38286  1.38368       660    0       4   \n",
      "\n",
      "                date_time  \n",
      "99990 2024-07-26 14:00:00  \n",
      "99991 2024-07-26 15:00:00  \n",
      "99992 2024-07-26 16:00:00  \n",
      "99993 2024-07-26 17:00:00  \n",
      "99994 2024-07-26 18:00:00  \n",
      "99995 2024-07-26 19:00:00  \n",
      "99996 2024-07-26 20:00:00  \n",
      "99997 2024-07-26 21:00:00  \n",
      "99998 2024-07-26 22:00:00  \n",
      "99999 2024-07-26 23:00:00  \n",
      "           open     high      low    close  tick_vol  vol  spread  \\\n",
      "100890  1.49957  1.50048  1.49946  1.50036      1640    0      12   \n",
      "100891  1.50035  1.50164  1.50000  1.50110      3033    0      12   \n",
      "100892  1.50108  1.50122  1.49982  1.50079      3213    0      12   \n",
      "100893  1.50072  1.50291  1.50031  1.50219      4111    0       8   \n",
      "100894  1.50220  1.50342  1.50196  1.50197      2997    0      12   \n",
      "100895  1.50200  1.50296  1.50168  1.50171      2153    0      12   \n",
      "100896  1.50172  1.50241  1.50141  1.50230      2248    0      12   \n",
      "100897  1.50231  1.50247  1.50191  1.50223      2093    0      12   \n",
      "100898  1.50224  1.50238  1.50159  1.50161      1920    0      12   \n",
      "100899  1.50155  1.50207  1.50122  1.50200       886    0       7   \n",
      "\n",
      "                 date_time  \n",
      "100890 2024-07-26 14:00:00  \n",
      "100891 2024-07-26 15:00:00  \n",
      "100892 2024-07-26 16:00:00  \n",
      "100893 2024-07-26 17:00:00  \n",
      "100894 2024-07-26 18:00:00  \n",
      "100895 2024-07-26 19:00:00  \n",
      "100896 2024-07-26 20:00:00  \n",
      "100897 2024-07-26 21:00:00  \n",
      "100898 2024-07-26 22:00:00  \n",
      "100899 2024-07-26 23:00:00  \n"
     ]
    }
   ],
   "source": [
    "print(usdcad_h1.tail(10))\n",
    "print(eurcad_h1.tail(10))"
   ]
  },
  {
   "cell_type": "code",
   "execution_count": 8,
   "metadata": {},
   "outputs": [
    {
     "name": "stdout",
     "output_type": "stream",
     "text": [
      "                       open    high     low   close  tick_vol  vol  spread\n",
      "date_time                                                                 \n",
      "2008-06-11 08:00:00  1.0237  1.0239  1.0213  1.0217       403    0      30\n",
      "2008-06-11 09:00:00  1.0219  1.0227  1.0214  1.0220       391    0      30\n",
      "2008-06-11 10:00:00  1.0221  1.0222  1.0196  1.0196       399    0      30\n",
      "2008-06-11 11:00:00  1.0197  1.0205  1.0173  1.0192       480    0      30\n",
      "2008-06-11 12:00:00  1.0193  1.0195  1.0184  1.0189       239    0      30\n",
      "                       open    high     low   close  tick_vol  vol  spread\n",
      "date_time                                                                 \n",
      "2008-04-18 00:00:00  1.6061  1.6078  1.6060  1.6064       166    0      80\n",
      "2008-04-18 01:00:00  1.6065  1.6076  1.6061  1.6072       303    0      80\n",
      "2008-04-18 02:00:00  1.6071  1.6072  1.6012  1.6021       587    0      80\n",
      "2008-04-18 03:00:00  1.6019  1.6038  1.6010  1.6033       358    0      80\n",
      "2008-04-18 04:00:00  1.6032  1.6034  1.6017  1.6019       266    0      80\n"
     ]
    }
   ],
   "source": [
    "\n",
    "if 'date_time' in usdcad_h1.columns:\n",
    "    usdcad_h1.index = usdcad_h1['date_time']\n",
    "    usdcad_h1.drop(columns='date_time', inplace=True)\n",
    "else: pass\n",
    "print(usdcad_h1.head())\n",
    "\n",
    "\n",
    "if 'date_time' in eurcad_h1.columns:\n",
    "    eurcad_h1.index = eurcad_h1['date_time']\n",
    "    eurcad_h1.drop(columns='date_time', inplace=True)\n",
    "else:\n",
    "    pass\n",
    "print(eurcad_h1.head())"
   ]
  },
  {
   "cell_type": "code",
   "execution_count": 9,
   "metadata": {},
   "outputs": [
    {
     "name": "stdout",
     "output_type": "stream",
     "text": [
      "usdcad training data: (85000,)\n",
      "usdcad testing data: (15000,)\n",
      "eurcad training data: (85765,)\n",
      "eurcad testing data: (15135,)\n"
     ]
    }
   ],
   "source": [
    "y_usd = usdcad_h1['close']\n",
    "y_usd.index = usdcad_h1.index\n",
    "usd_train, usd_test = np.split(y_usd, [int(0.85 * len(usdcad_h1))])\n",
    "\n",
    "print('usdcad training data:', usd_train.shape)\n",
    "print('usdcad testing data:', usd_test.shape)\n",
    "\n",
    "y_eur = eurcad_h1['close']\n",
    "y_eur.index = eurcad_h1.index\n",
    "eur_train, eur_test = np.split(y_eur, [int(0.85 * len(eurcad_h1))])\n",
    "\n",
    "print('eurcad training data:', eur_train.shape)\n",
    "print('eurcad testing data:', eur_test.shape)"
   ]
  },
  {
   "cell_type": "code",
   "execution_count": 10,
   "metadata": {},
   "outputs": [
    {
     "name": "stdout",
     "output_type": "stream",
     "text": [
      "Mean Squared Error: 0.024785463700694132\n"
     ]
    }
   ],
   "source": [
    "usdcad_h1_model = ARIMA(usd_train)\n",
    "usdcad_h1_model_fit = usdcad_h1_model.fit()\n",
    "usdcad_h1_pred = usdcad_h1_model_fit.forecast(steps = len(usd_test))\n",
    "usdcad_mse = mean_squared_error(np.array(usd_test), usdcad_h1_pred)\n",
    "print('Mean Squared Error:', usdcad_mse)"
   ]
  },
  {
   "cell_type": "code",
   "execution_count": 11,
   "metadata": {},
   "outputs": [
    {
     "name": "stdout",
     "output_type": "stream",
     "text": [
      "Mean Squared Error: 0.004010391789780199\n"
     ]
    }
   ],
   "source": [
    "eurcad_h1_model = ARIMA(eur_train)\n",
    "eurcad_h1_model_fit = eurcad_h1_model.fit()\n",
    "eurcad_h1_pred = eurcad_h1_model_fit.forecast(steps=len(eur_test))\n",
    "eurcad_mse = mean_squared_error(np.array(eur_test), eurcad_h1_pred)\n",
    "print('Mean Squared Error:', eurcad_mse)"
   ]
  },
  {
   "cell_type": "code",
   "execution_count": 12,
   "metadata": {},
   "outputs": [
    {
     "data": {
      "text/plain": [
       "0.15743399791879178"
      ]
     },
     "execution_count": 12,
     "metadata": {},
     "output_type": "execute_result"
    }
   ],
   "source": [
    "import numpy as np\n",
    "np.sqrt(usdcad_mse)"
   ]
  }
 ],
 "metadata": {
  "kernelspec": {
   "display_name": "Python 3",
   "language": "python",
   "name": "python3"
  },
  "language_info": {
   "codemirror_mode": {
    "name": "ipython",
    "version": 3
   },
   "file_extension": ".py",
   "mimetype": "text/x-python",
   "name": "python",
   "nbconvert_exporter": "python",
   "pygments_lexer": "ipython3",
   "version": "3.11.5"
  }
 },
 "nbformat": 4,
 "nbformat_minor": 2
}
